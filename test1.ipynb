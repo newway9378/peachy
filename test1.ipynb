{
  "nbformat": 4,
  "nbformat_minor": 0,
  "metadata": {
    "colab": {
      "name": "Copy of test1.ipynb",
      "provenance": [],
      "authorship_tag": "ABX9TyN7+sExmus919M0a96rL424",
      "include_colab_link": true
    },
    "kernelspec": {
      "name": "python3",
      "display_name": "Python 3"
    },
    "language_info": {
      "name": "python"
    }
  },
  "cells": [
    {
      "cell_type": "markdown",
      "metadata": {
        "id": "view-in-github",
        "colab_type": "text"
      },
      "source": [
        "<a href=\"https://colab.research.google.com/github/newway9378/peachy/blob/main/test1.ipynb\" target=\"_parent\"><img src=\"https://colab.research.google.com/assets/colab-badge.svg\" alt=\"Open In Colab\"/></a>"
      ]
    },
    {
      "cell_type": "code",
      "execution_count": 1,
      "metadata": {
        "id": "7ChUSrv3swrw",
        "outputId": "59117d3b-b960-4c37-b27d-e8c59521c1af",
        "colab": {
          "base_uri": "https://localhost:8080/"
        }
      },
      "outputs": [
        {
          "output_type": "stream",
          "name": "stdout",
          "text": [
            "Hello World!\n",
            "Hello Pusan\n"
          ]
        }
      ],
      "source": [
        "print(\"Hello World!\")\n",
        "a = \"Hello Pusan\"\n",
        "print(a)"
      ]
    }
  ]
}